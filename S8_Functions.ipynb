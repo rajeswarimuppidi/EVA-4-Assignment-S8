{
  "nbformat": 4,
  "nbformat_minor": 0,
  "metadata": {
    "colab": {
      "name": "S8_Functions.ipynb",
      "provenance": [],
      "include_colab_link": true
    },
    "kernelspec": {
      "name": "python3",
      "display_name": "Python 3"
    }
  },
  "cells": [
    {
      "cell_type": "markdown",
      "metadata": {
        "id": "view-in-github",
        "colab_type": "text"
      },
      "source": [
        "<a href=\"https://colab.research.google.com/github/rajeswarimuppidi/EVA-4-Assignment-S8/blob/master/S8_Functions.ipynb\" target=\"_parent\"><img src=\"https://colab.research.google.com/assets/colab-badge.svg\" alt=\"Open In Colab\"/></a>"
      ]
    },
    {
      "cell_type": "code",
      "metadata": {
        "id": "UKTq6gdC2csP",
        "colab_type": "code",
        "outputId": "234a9c97-bdf5-4a5d-c0ac-93310cc0c14f",
        "colab": {
          "base_uri": "https://localhost:8080/",
          "height": 34
        }
      },
      "source": [
        "from __future__ import print_function\n",
        "import torch\n",
        "import torch.nn as nn\n",
        "import torch.nn.functional as F\n",
        "import torch.optim as optim\n",
        "from torchvision import datasets, transforms\n",
        "!pip install torchsummary\n",
        "from torchsummary import summary\n",
        "from tqdm import tqdm\n",
        "%matplotlib inline\n",
        "import matplotlib.pyplot as plt\n",
        "from torchvision.transforms import ToPILImage\n",
        "import os"
      ],
      "execution_count": 0,
      "outputs": [
        {
          "output_type": "stream",
          "text": [
            "Requirement already satisfied: torchsummary in /usr/local/lib/python3.6/dist-packages (1.5.1)\n"
          ],
          "name": "stdout"
        }
      ]
    },
    {
      "cell_type": "code",
      "metadata": {
        "id": "BjcFN3YU2nrq",
        "colab_type": "code",
        "colab": {}
      },
      "source": [
        "misclassified_without_L1_L2_list = {}\n",
        "\n",
        "train_losses_L1 = []\n",
        "train_acc_L1 = []\n",
        "test_losses_L1 = []\n",
        "test_acc_L1 = []\n",
        "misclassified_L1_list = {}\n",
        "\n",
        "train_losses_L2 = []\n",
        "train_acc_L2 = []\n",
        "test_losses_L2 = []\n",
        "test_acc_L2 = []\n",
        "misclassified_L2_list = {}\n",
        "\n",
        "train_losses_L1_L2 = []\n",
        "train_acc_L1_L2 = []\n",
        "test_losses_L1_L2 = []\n",
        "test_acc_L1_L2 = []\n",
        "misclassified_L1_L2_list = {}\n",
        "use_cuda = torch.cuda.is_available()\n",
        "device = torch.device(\"cuda\" if use_cuda else \"cpu\")"
      ],
      "execution_count": 0,
      "outputs": []
    },
    {
      "cell_type": "code",
      "metadata": {
        "id": "hP-RGuJI2ryv",
        "colab_type": "code",
        "colab": {}
      },
      "source": [
        "def transformations():\n",
        "  # Train Phase transformations\n",
        "  train_transforms = transforms.Compose([\n",
        "                                       #transforms.RandomRotation((-12.0, 12.0), fill=(1,)),\n",
        "                                       transforms.ToTensor(),\n",
        "                                       transforms.Normalize((0.5, 0.5, 0.5), (0.5, 0.5, 0.5))\n",
        "                                       ])\n",
        "\n",
        "  # Test Phase transformations\n",
        "  test_transforms = transforms.Compose([\n",
        "                                       transforms.ToTensor(),\n",
        "                                       transforms.Normalize((0.5, 0.5, 0.5), (0.5, 0.5, 0.5))\n",
        "                                       ])\n",
        "  return train_transforms , test_transforms"
      ],
      "execution_count": 0,
      "outputs": []
    },
    {
      "cell_type": "code",
      "metadata": {
        "id": "EdcVdShS2uFT",
        "colab_type": "code",
        "colab": {}
      },
      "source": [
        "def train_test_dataloaders(seed, batch_size, workers,train_transforms,test_transforms):\n",
        "  \n",
        "  SEED = seed\n",
        "\n",
        "  # CUDA?\n",
        "  cuda = torch.cuda.is_available()\n",
        "  print(\"CUDA Available?\", cuda)\n",
        "\n",
        "  # For reproducibility\n",
        "  torch.manual_seed(SEED)\n",
        "\n",
        "  if cuda:\n",
        "      torch.cuda.manual_seed(SEED)\n",
        "\n",
        "  # dataloader arguments - something you'll fetch these from cmdprmt\n",
        "  dataloader_args = dict(shuffle=True, batch_size=batch_size, num_workers=workers, pin_memory=True) if cuda else dict(shuffle=True, batch_size=batch_size)\n",
        "\n",
        "  trainset = datasets.CIFAR10(root='./data', train=True,\n",
        "                                        download=True, transform=train_transforms)\n",
        "  trainloader = torch.utils.data.DataLoader(trainset, **dataloader_args)\n",
        "\n",
        "  testset = datasets.CIFAR10(root='./data', train=False,\n",
        "                                        download=True, transform=test_transforms)\n",
        "  testloader = torch.utils.data.DataLoader(testset, **dataloader_args)\n",
        "  classes = ('plane', 'car', 'bird', 'cat','deer', 'dog', 'frog', 'horse', 'ship', 'truck')\n",
        "  return trainloader, testloader"
      ],
      "execution_count": 0,
      "outputs": []
    },
    {
      "cell_type": "code",
      "metadata": {
        "id": "nqfaFBBW2wDH",
        "colab_type": "code",
        "colab": {}
      },
      "source": [
        "dropout_value = 0.1\n",
        "class Net(nn.Module):\n",
        "    def __init__(self, dropout):\n",
        "        super(Net, self).__init__()\n",
        "        dropout_value = dropout\n",
        "        # Input Block\n",
        "        self.convblock1 = nn.Sequential(\n",
        "            nn.Conv2d(in_channels=3, out_channels=32, kernel_size=(3, 3), padding=1, bias=False),\n",
        "            nn.ReLU(),\n",
        "            nn.BatchNorm2d(32),\n",
        "            # nn.Dropout(dropout_value)\n",
        "        ) # output_size = 32 RF=3\n",
        "\n",
        "        self.convblock2 = nn.Sequential(\n",
        "            nn.Conv2d(in_channels=32, out_channels=64, kernel_size=(3, 3), padding=2, dilation=2, bias=False),\n",
        "            nn.ReLU(),\n",
        "            nn.BatchNorm2d(64),\n",
        "            # nn.Dropout(dropout_value)            \n",
        "        ) # output_size = 32 Rf=5\n",
        "\n",
        "        # TRANSITION BLOCK 1\n",
        "        self.pool1 = nn.MaxPool2d(2, 2) # output_size = 16 RF=9\n",
        "        self.convblock3 = nn.Sequential(\n",
        "            nn.Conv2d(in_channels=64, out_channels=128, kernel_size=(3, 3), padding=2, dilation=2, bias=False),\n",
        "            nn.ReLU(),\n",
        "            nn.BatchNorm2d(128),\n",
        "            # nn.Dropout(dropout_value)            \n",
        "        ) # output_size = 16 RF=17\n",
        "\n",
        "        self.convblock4 = nn.Sequential(\n",
        "            nn.Conv2d(in_channels=128, out_channels=256, kernel_size=(3, 3), padding=1, groups=128 , bias=False),\n",
        "            nn.ReLU(),\n",
        "            nn.BatchNorm2d(256),\n",
        "            # nn.Dropout(dropout_value)\n",
        "        ) # output_size = 16 RF=33\n",
        "\n",
        "        self.convblock5 = nn.Sequential(\n",
        "            nn.Conv2d(in_channels=256, out_channels=256, kernel_size=(1, 1), padding=1 , bias=False),\n",
        "            nn.ReLU(),\n",
        "            nn.BatchNorm2d(256),\n",
        "            # nn.Dropout(dropout_value)            \n",
        "        ) # output_size = 16 RF=33\n",
        "\n",
        "        # TRANSITION BLOCK 2\n",
        "        self.pool2 = nn.MaxPool2d(2, 2) # output_size = 8 RF=49\n",
        "\n",
        "        # CONVOLUTION BLOCK 2\n",
        "        self.convblock6 = nn.Sequential(\n",
        "            nn.Conv2d(in_channels=256, out_channels=256, kernel_size=(3, 3), padding=1, bias=False),\n",
        "            nn.ReLU(),\n",
        "            nn.BatchNorm2d(256),\n",
        "            # nn.Dropout(dropout_value)            \n",
        "        ) # output_size = 8 RF=81\n",
        "\n",
        "        # TRANSITION BLOCK 3\n",
        "        self.pool3 = nn.MaxPool2d(2, 2) # output_size =4 RF=113\n",
        "        self.gap = nn.Sequential(\n",
        "            nn.AvgPool2d(kernel_size=4)\n",
        "        ) # output_size =1  RF=209\n",
        "        self.convblock7 = nn.Sequential(\n",
        "            nn.Conv2d(in_channels=256, out_channels=10, kernel_size=(1, 1), padding=0, bias=False)\n",
        "        ) # output_size =1  RF=209\n",
        "\n",
        "    def forward(self, x):\n",
        "        x = self.convblock1(x)\n",
        "        x = self.convblock2(x)\n",
        "        x = self.pool1(x)\n",
        "        x = self.convblock3(x)        \n",
        "        x = self.convblock4(x)\n",
        "        x = self.convblock5(x)\n",
        "        x = self.pool2(x)\n",
        "        x = self.convblock6(x)\n",
        "        x = self.pool3(x)        \n",
        "        x = self.gap(x)\n",
        "        x = self.convblock7(x)\n",
        "        x = x.view(-1, 10)\n",
        "        return F.log_softmax(x, dim=-1)"
      ],
      "execution_count": 0,
      "outputs": []
    },
    {
      "cell_type": "code",
      "metadata": {
        "id": "cxhBvq_d2ywc",
        "colab_type": "code",
        "colab": {}
      },
      "source": [
        "def model_params(model, input_size,device):\n",
        "  #use_cuda = torch.cuda.is_available()\n",
        "  #device = torch.device(\"cuda\" if use_cuda else \"cpu\")\n",
        "  #print(device)\n",
        "  model = model.to(device)\n",
        "  #summary(model, input_size=(1, 28, 28))\n",
        "  summary(model, input_size)"
      ],
      "execution_count": 0,
      "outputs": []
    },
    {
      "cell_type": "code",
      "metadata": {
        "id": "qh_Q6Uv120dR",
        "colab_type": "code",
        "colab": {}
      },
      "source": [
        "def compute_L1_Loss(model, data, factor=0.0005):\n",
        "  l1_crit = nn.L1Loss().to(device)\n",
        "  reg_loss = 0\n",
        "  for param in model.parameters():\n",
        "    zero_vector = torch.rand_like(param) * 0\n",
        "    reg_loss += l1_crit(param, zero_vector)\n",
        "  return factor * reg_loss"
      ],
      "execution_count": 0,
      "outputs": []
    },
    {
      "cell_type": "code",
      "metadata": {
        "id": "aqGotZHk22Me",
        "colab_type": "code",
        "colab": {}
      },
      "source": [
        "def train(model, device, train_loader, optimizer, epoch, isL1, train_acc, train_losses):\n",
        "  model.train()\n",
        "  pbar = tqdm(train_loader)\n",
        "  correct = 0\n",
        "  processed = 0\n",
        "  for batch_idx, (data, target) in enumerate(pbar):\n",
        "    # get samples\n",
        "    data, target = data.to(device), target.to(device)\n",
        "\n",
        "    # Init\n",
        "    optimizer.zero_grad()\n",
        "    # In PyTorch, we need to set the gradients to zero before starting to do backpropragation because PyTorch accumulates the gradients on subsequent backward passes. \n",
        "    # Because of this, when you start your training loop, ideally you should zero out the gradients so that you do the parameter update correctly.\n",
        "\n",
        "    # Predict\n",
        "    y_pred = model(data)\n",
        "\n",
        "    # Calculate loss\n",
        "    loss = F.nll_loss(y_pred, target)\n",
        "    if isL1:\n",
        "      loss += compute_L1_Loss(model,data,factor=0.0005)\n",
        "    train_losses.append(loss)\n",
        "\n",
        "    # Backpropagation\n",
        "    loss.backward()\n",
        "    optimizer.step()\n",
        "\n",
        "    # Update pbar-tqdm\n",
        "    \n",
        "    pred = y_pred.argmax(dim=1, keepdim=True)  # get the index of the max log-probability\n",
        "    correct += pred.eq(target.view_as(pred)).sum().item()\n",
        "    processed += len(data)\n",
        "\n",
        "    pbar.set_description(desc= f'Loss={loss.item()} Batch_id={batch_idx} Accuracy={100*correct/processed:0.2f}')\n",
        "    train_acc.append(100*correct/processed)"
      ],
      "execution_count": 0,
      "outputs": []
    },
    {
      "cell_type": "code",
      "metadata": {
        "id": "UD_-CPpq238y",
        "colab_type": "code",
        "colab": {}
      },
      "source": [
        "def test(model, device, test_loader, test_acc, test_losses, misclassified_list):\n",
        "    model.eval()\n",
        "    test_loss = 0\n",
        "    correct = 0\n",
        "    with torch.no_grad():\n",
        "        for data, target in test_loader:\n",
        "            i=len(misclassified_list)\n",
        "            orig_data=data.numpy()\n",
        "            data, target = data.to(device), target.to(device)\n",
        "            output = model(data)\n",
        "            test_loss += F.nll_loss(output, target, reduction='sum').item()  # sum up batch loss\n",
        "            pred = output.argmax(dim=1, keepdim=True)  # get the index of the max log-probability\n",
        "            new_target=target.view_as(pred)\n",
        "            for x,y,z in zip(pred,new_target,orig_data):\n",
        "              if x!=y:\n",
        "                # print(\"type= {} {} \".format(x,y))\n",
        "                # print(\"Z\", z.shape)\n",
        "                misclassified_list[i]=[x,y,z]\n",
        "                i +=1\n",
        "            correct += pred.eq(target.view_as(pred)).sum().item()\n",
        "\n",
        "    test_loss /= len(test_loader.dataset)\n",
        "    test_losses.append(test_loss)\n",
        "\n",
        "    print('\\nTest set: Average loss: {:.4f}, Accuracy: {}/{} ({:.2f}%)\\n'.format(\n",
        "        test_loss, correct, len(test_loader.dataset),\n",
        "        100. * correct / len(test_loader.dataset)))\n",
        "    \n",
        "    test_acc.append(100. * correct / len(test_loader.dataset))"
      ],
      "execution_count": 0,
      "outputs": []
    },
    {
      "cell_type": "code",
      "metadata": {
        "id": "SHmDXZG925-3",
        "colab_type": "code",
        "colab": {}
      },
      "source": [
        "def plot(train_losses,train_acc,test_losses,test_acc, label):\n",
        "  fig, axs = plt.subplots(1,2,figsize=(20,8))\n",
        "  axs[0].plot(test_losses, label=label)\n",
        "  axs[0].set_title(\"Test Loss\")\n",
        "  axs[1].plot(test_acc, label=label)\n",
        "  axs[1].set_title(\"Test Accuracy\")"
      ],
      "execution_count": 0,
      "outputs": []
    },
    {
      "cell_type": "code",
      "metadata": {
        "id": "dKOcUsg_27q0",
        "colab_type": "code",
        "colab": {}
      },
      "source": [
        "def plotall():\n",
        "  fig, axs = plt.subplots(1,2,figsize=(20,8))\n",
        "  axs[0].plot(test_losses_without_L1_L2, label='without L1 and L2')\n",
        "  axs[0].plot(test_losses_L1, label='with L1 only')\n",
        "  axs[0].plot(test_losses_L2, label='with L2 only')\n",
        "  axs[0].plot(test_losses_L1_L2, label='with L1 and L2 both')\n",
        "  axs[0].set_title(\"Test Loss\")\n",
        "  axs[0].legend()\n",
        "  axs[1].plot(test_acc_without_L1_L2, label='without L1 and L2')\n",
        "  axs[1].plot(test_acc_L1, label='with L1 only')\n",
        "  axs[1].plot(test_acc_L2, label='with L2 only')\n",
        "  axs[1].plot(test_acc_L1_L2, label='with L1 and L2 both')\n",
        "  axs[1].set_title(\"Test Accuracy\")\n",
        "  axs[1].legend()\n",
        "  # plt.savefig('/content/gdrive/My Drive/plot.png')"
      ],
      "execution_count": 0,
      "outputs": []
    },
    {
      "cell_type": "code",
      "metadata": {
        "id": "EhpAhWZr29hj",
        "colab_type": "code",
        "colab": {}
      },
      "source": [
        "def plot_misclassified_images(missclassified,filename):\n",
        "  mis_Class_list=list(missclassified.values())\n",
        "  # each_Item=missclassified.keys()\n",
        "  # print(\"type= \",(mis_Class_list[1][2]))\n",
        "  print(\"classified= \",mis_Class_list[0][2].shape)\n",
        "  print(\"classified1= \",mis_Class_list[0][2].reshape(28,28,1).shape)\n",
        "  fig = plt.figure(figsize=(10, 10))  # width, height in inches\n",
        "  columns = 5\n",
        "  rows = 5\n",
        "  for i in range(columns*rows):\n",
        "      sub = fig.add_subplot(rows, columns, i+1)\n",
        "      each_img=mis_Class_list[i][2]\n",
        "      shape_change=each_img.reshape(28,28)\n",
        "      # print(\"new shape= \",shape_change.shape)\n",
        "      # sub.imshow(plt.imshow(shape_change,cmap='gray',interpolation='none'))\n",
        "      plt.imshow(shape_change,cmap='gray',interpolation='none')\n",
        "      sub.set_title(\"Pred={}, Act={}\".format(mis_Class_list[i][0].tolist()[0],mis_Class_list[i][1].tolist()[0]))\n",
        "  plt.tight_layout()\n",
        "  plt.savefig(os.path.join('/content/gdrive/My Drive',filename))\n",
        "  plt.show()"
      ],
      "execution_count": 0,
      "outputs": []
    },
    {
      "cell_type": "code",
      "metadata": {
        "id": "oXhz1Wm22_fZ",
        "colab_type": "code",
        "colab": {}
      },
      "source": [
        "def save_model(model, path):\n",
        "  torch.save(model.state_dict(), path)"
      ],
      "execution_count": 0,
      "outputs": []
    },
    {
      "cell_type": "code",
      "metadata": {
        "id": "MudcOfAS3BTQ",
        "colab_type": "code",
        "colab": {}
      },
      "source": [
        "def invoke_process_without_L1_and_L2(model,device,input_size,train_loader,test_loader,epoch,optimizer):\n",
        "  # train_transforms, test_transforms = transformations()\n",
        "  # train_loader, test_loader = train_test_dataloaders(1, 64, 4,train_transforms,test_transforms)\n",
        "  train_losses_without_L1_L2 = []\n",
        "  test_losses_without_L1_L2 = []\n",
        "  train_acc_without_L1_L2 = []\n",
        "  test_acc_without_L1_L2 = []\n",
        "  model =  model #Net(1.0).to(device)\n",
        "  model_params(model, input_size,device)  \n",
        "  # optimizer = optim.SGD(model.parameters(), lr=0.01, momentum=0.9)\n",
        "  EPOCHS = epoch\n",
        "  for epoch in range(EPOCHS):\n",
        "      print(\"EPOCH:\", epoch)\n",
        "      train(model, device, train_loader, optimizer, epoch, False, train_acc_without_L1_L2, train_losses_without_L1_L2)\n",
        "      test(model, device, test_loader, test_acc_without_L1_L2, test_losses_without_L1_L2, misclassified_without_L1_L2_list)\n",
        "  plot(train_losses_without_L1_L2,train_acc_without_L1_L2, test_losses_without_L1_L2, test_acc_without_L1_L2, 'without L1 and L2')\n",
        "  save_model(model, '/content/gdrive/My Drive/Assign-6-without-L1AndL2.pth')\n",
        "  print(\"miss\",len(misclassified_without_L1_L2_list))\n",
        "  # plot_misclassified_images(misclassified_without_L1_L2_list)"
      ],
      "execution_count": 0,
      "outputs": []
    },
    {
      "cell_type": "code",
      "metadata": {
        "id": "9UdhNBUu3Dsu",
        "colab_type": "code",
        "colab": {}
      },
      "source": [
        "def invoke_process_with_L1(model,device,input_size,train_loader,test_loader,epoch,optimizer):\n",
        "  train_transforms, test_transforms = transformations()\n",
        "  train_loader, test_loader = train_test_dataloaders(1, 64, 4,train_transforms, test_transforms)\n",
        "  train_losses_L1 = []\n",
        "  train_acc_L1 = []\n",
        "  test_losses_L1 = []\n",
        "  test_acc_L1 = []\n",
        "  model =  model#Net(1.0).to(device)\n",
        "  model_params(model, input_size,device)  \n",
        "  # optimizer = optim.SGD(model.parameters(), lr=0.01, momentum=0.9)\n",
        "  EPOCHS = epoch\n",
        "  for epoch in range(EPOCHS):\n",
        "      print(\"EPOCH:\", epoch)\n",
        "      train(model, device, train_loader, optimizer, epoch, True, train_acc_L1, train_losses_L1)\n",
        "      test(model, device, test_loader, test_acc_L1, test_losses_L1, misclassified_L1_list )\n",
        "  plot(train_losses_L1,train_acc_L1, test_losses_L1, test_acc_L1, 'with L1 only')\n",
        "  # save_model(model, '/content/gdrive/My Drive/Assign-6-with-L1.pth')\n",
        "  # plot_misclassified_images(misclassified_L1_list,\"misclassified_L1_list.png\")"
      ],
      "execution_count": 0,
      "outputs": []
    }
  ]
}